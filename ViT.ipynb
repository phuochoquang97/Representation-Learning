{
 "cells": [
  {
   "cell_type": "markdown",
   "metadata": {
    "id": "3eqhJt7GchZi"
   },
   "source": [
    "# Lab: Coding Vision Transformers in Pytorch\n",
    "\n",
    "For any remark or suggestion on this lab, please feel free to contact me at:\n",
    "\n",
    "- loic.lefolgoc@telecom-paris.fr\n",
    "\n",
    "### Objective:\n",
    "\n",
    "We want to implement a Vision Transformer (ViT) for image recognition. We will use this model on a well-known dataset: CIFAR-10 https://www.cs.toronto.edu/~kriz/cifar.html.\n",
    "\n",
    "The model will be implemented using the Pytorch environment : https://pytorch.org/.\n",
    "    \n",
    "### HO Quang Phuoc, Master MVA, ENS Paris-Saclay"
   ]
  },
  {
   "cell_type": "markdown",
   "metadata": {
    "id": "Cgyu2GBVW192"
   },
   "source": [
    "# Load packages"
   ]
  },
  {
   "cell_type": "code",
   "execution_count": null,
   "metadata": {
    "id": "1Qj5KY79W192"
   },
   "outputs": [],
   "source": [
    "%matplotlib inline\n",
    "import matplotlib.pyplot as plt\n",
    "import numpy as np\n",
    "\n",
    "import torch\n",
    "import torch.nn as nn\n",
    "import torch.nn.functional as F\n",
    "import torch.optim as optim\n",
    "import torchvision.datasets as datasets\n",
    "import torchvision.transforms as transforms\n",
    "\n",
    "from tqdm import tqdm"
   ]
  },
  {
   "cell_type": "code",
   "execution_count": null,
   "metadata": {
    "id": "HXgy6R4hzd8X"
   },
   "outputs": [],
   "source": [
    "try:\n",
    "    import einops\n",
    "except ImportError:\n",
    "    !pip install einops"
   ]
  },
  {
   "cell_type": "code",
   "execution_count": null,
   "metadata": {
    "id": "lnafXfVgbdA8"
   },
   "outputs": [],
   "source": [
    "from einops import rearrange, repeat\n",
    "from einops.layers.torch import Rearrange"
   ]
  },
  {
   "cell_type": "markdown",
   "metadata": {
    "id": "M5D5BY20W1-m"
   },
   "source": [
    "# Load the dataset: CIFAR-10\n",
    "\n",
    "We are going to train a vision transformer on a well-known vision dataset : CIFAR10. CIFAR10 consists of $60,000$ $32\\times 32$ color images of $10$ different object classes, with 6000 images per class. There are 50000 training images and 10000 test images.\n"
   ]
  },
  {
   "cell_type": "code",
   "execution_count": null,
   "metadata": {
    "id": "5Al5b-S37T4A"
   },
   "outputs": [],
   "source": [
    "# The CIFAR10 categories\n",
    "cifar_10_list = [\n",
    "    \"airplane\",\n",
    "    \"automobile\",\n",
    "    \"bird\",\n",
    "    \"cat\",\n",
    "    \"deer\",\n",
    "    \"dog\",\n",
    "    \"frog\",\n",
    "    \"horse\",\n",
    "    \"ship\",\n",
    "    \"truck\",\n",
    "]"
   ]
  },
  {
   "cell_type": "markdown",
   "metadata": {
    "id": "fp37mAZFTPFp"
   },
   "source": [
    "We import the CIFAR-10 data and carry out some pre-processing :"
   ]
  },
  {
   "cell_type": "code",
   "execution_count": null,
   "metadata": {
    "colab": {
     "base_uri": "https://localhost:8080/"
    },
    "executionInfo": {
     "elapsed": 7743,
     "status": "ok",
     "timestamp": 1739737293276,
     "user": {
      "displayName": "Phuoc Ho Quang",
      "userId": "17998449024561865035"
     },
     "user_tz": -60
    },
    "id": "k15abDeRW1-m",
    "outputId": "71a69cfd-d9e3-42c1-d910-df4a0ac14907"
   },
   "outputs": [
    {
     "name": "stdout",
     "output_type": "stream",
     "text": [
      "Downloading https://www.cs.toronto.edu/~kriz/cifar-10-python.tar.gz to ./data/cifar-10-python.tar.gz\n"
     ]
    },
    {
     "name": "stderr",
     "output_type": "stream",
     "text": [
      "100%|██████████| 170M/170M [00:03<00:00, 42.9MB/s]\n"
     ]
    },
    {
     "name": "stdout",
     "output_type": "stream",
     "text": [
      "Extracting ./data/cifar-10-python.tar.gz to ./data\n",
      "Dataset CIFAR10\n",
      "    Number of datapoints: 50000\n",
      "    Root location: ./data\n",
      "    Split: Train\n",
      "    StandardTransform\n",
      "Transform: Compose(\n",
      "               ToTensor()\n",
      "           )\n",
      "Files already downloaded and verified\n"
     ]
    }
   ],
   "source": [
    "# Convert input to Pytorch tensors\n",
    "input_transform = transforms.Compose([transforms.ToTensor()])\n",
    "\n",
    "# Retrieve CIFAR training data\n",
    "cifar_trainset = datasets.CIFAR10(\n",
    "    root=\"./data\", train=True, download=True, transform=input_transform\n",
    ")\n",
    "print(cifar_trainset)\n",
    "\n",
    "# Retrieve test data\n",
    "cifar_testset = datasets.CIFAR10(\n",
    "    root=\"./data\", train=False, download=True, transform=input_transform\n",
    ")"
   ]
  },
  {
   "cell_type": "markdown",
   "metadata": {
    "id": "WpM3zdF_W1-x"
   },
   "source": [
    "### Display some of the images"
   ]
  },
  {
   "cell_type": "code",
   "execution_count": null,
   "metadata": {
    "executionInfo": {
     "elapsed": 411,
     "status": "ok",
     "timestamp": 1739737832184,
     "user": {
      "displayName": "Phuoc Ho Quang",
      "userId": "17998449024561865035"
     },
     "user_tz": -60
    },
    "id": "E1fWrMSmR16_"
   },
   "outputs": [],
   "source": [
    "# Extract the test data and labels for visualization\n",
    "X_test = torch.from_numpy(cifar_testset.data / 255.0).float().permute(0, 3, 1, 2)\n",
    "Y_test = torch.tensor(cifar_testset.targets, dtype=torch.uint8)"
   ]
  },
  {
   "cell_type": "code",
   "execution_count": null,
   "metadata": {
    "colab": {
     "base_uri": "https://localhost:8080/",
     "height": 468
    },
    "executionInfo": {
     "elapsed": 1242,
     "status": "ok",
     "timestamp": 1739737294517,
     "user": {
      "displayName": "Phuoc Ho Quang",
      "userId": "17998449024561865035"
     },
     "user_tz": -60
    },
    "id": "PeFaoz2AW1-y",
    "outputId": "91715144-e10c-4777-ed9e-9eb9199f09c3"
   },
   "outputs": [
    {
     "data": {
      "image/png": "[encoded data removed]",
      "text/plain": [
       "<Figure size 1000x600 with 10 Axes>"
      ]
     },
     "metadata": {},
     "output_type": "display_data"
    }
   ],
   "source": [
    "plt.figure(figsize=(10, 6))\n",
    "for idx in range(0, 10):\n",
    "    plt.subplot(2, 5, idx + 1)\n",
    "    rand_ind = np.random.randint(0, X_test.shape[0])\n",
    "    plt.imshow(X_test[rand_ind, :, :, :].permute(1, 2, 0))\n",
    "    plt.title(cifar_10_list[int(Y_test[rand_ind])])"
   ]
  },
  {
   "cell_type": "markdown",
   "metadata": {
    "id": "XrGI_L3OW1-3"
   },
   "source": [
    "# Build a generic ViT (Vision Transformer) model"
   ]
  },
  {
   "cell_type": "markdown",
   "metadata": {
    "id": "xfbsac9FfYNE"
   },
   "source": [
    "A ViT has a patch embedding section, which splits an image into patches and projects them to patch embeddings. These embeddings are slightly modified (a [cls] token is added, positional embeddings are added) then fed to the main body of the transformer.\n",
    "\n",
    "The transformer consists of several transformer encoder blocks (MHSA and MLP layers), plus a final classification head (a linear projection layer)."
   ]
  },
  {
   "cell_type": "markdown",
   "metadata": {
    "id": "HgIm99iMiCpL"
   },
   "source": [
    "<br> Transformers make heavy use of the `einops.rearrange` function. Take a bit of time to go through the documentation and example uses of this function: https://einops.rocks/1-einops-basics/.\n",
    "\n",
    "It will be very useful to you beyond transformers, and will make your code much more readable than alternatives!"
   ]
  },
  {
   "cell_type": "markdown",
   "metadata": {
    "id": "xFXvjiLzkDZk"
   },
   "source": [
    "<br>We are going to build the model step-by-step. First, we focus on the patch embedding. Fill in the missing parts in the `PatchEmbedding` class. You can then test your implementation by running the cell right below it.\n",
    "\n",
    "The attribute `self.net` is a `nn.Sequential` object that is used in the forward pass to convert images to sequences of flattened patches. It contains the following layers:\n",
    "- a `Rearrange` layer from `einops.layers.torch` that reshapes the batch of input images into a batch of sequences of flattened patches: `(b, c, H, W) → (b, N, D_p)` where `H=h*patch_height`, `W=w*patch_width`, `N=h*w`, `D_p=patch_height*patch_width*c`;\n",
    "- a `LayerNorm` layer, which computes the mean/variance separately for each token in the sequence (i.e. mean/variance over the `D_p` patch entries);\n",
    "- a `Linear` layer, which projects each token from `D_p` to `dim` dimensions;\n",
    "- a `LayerNorm` layer, which computes the mean/variance separately for each token in the sequence (i.e. mean/variance over the `dim` embedding dimensions)."
   ]
  },
  {
   "cell_type": "code",
   "execution_count": null,
   "metadata": {
    "id": "LmIUi16VkGCq"
   },
   "outputs": [],
   "source": [
    "def pair(t):\n",
    "    return t if isinstance(t, tuple) else (t, t)"
   ]
  },
  {
   "cell_type": "code",
   "execution_count": null,
   "metadata": {
    "id": "NaOsPH96jKp3"
   },
   "outputs": [],
   "source": [
    "class PatchEmbedding(nn.Module):\n",
    "    def __init__(self, image_size, patch_size, dim, channels):\n",
    "        \"\"\"\n",
    "        dim: Number of dimensions of patch embeddings (D in the slides)\n",
    "        channels: number of channels in the input images (3 for RGB images)\n",
    "        \"\"\"\n",
    "        super().__init__()\n",
    "        image_height, image_width = pair(image_size)\n",
    "        patch_height, patch_width = pair(patch_size)\n",
    "\n",
    "        assert (\n",
    "            image_height % patch_height == 0 and image_width % patch_width == 0\n",
    "        ), \"Image dimensions must be divisible by the patch size.\"\n",
    "\n",
    "        patch_dim = (\n",
    "            patch_height * patch_width * channels\n",
    "        )  # the total number of entries in a patch\n",
    "\n",
    "        # num_patches = image_area // patch_area\n",
    "        self.num_patches = (image_height // patch_height) * (\n",
    "            image_width * patch_width\n",
    "        )  # the number of patches in which an image is divided\n",
    "\n",
    "        # self.net contains the sequence of layers necessary to transform a batch of images into a batch of patch embedding sequences\n",
    "        self.net = nn.Sequential(\n",
    "            # (p1 p2 c) -> each patch is flattened into a single vector\n",
    "            # output shape: batch_size (b), num_patches (h*w), patch_dim (p1*p2*c)\n",
    "            Rearrange(\n",
    "                \"b c (h p1) (w p2) -> b (h w) (p1 p2 c)\",\n",
    "                p1=patch_height,\n",
    "                p2=patch_width,\n",
    "            ),\n",
    "            # LayerNorm over patch entries (D_p)\n",
    "            nn.LayerNorm(patch_dim),\n",
    "            # projects each token from D_p to dim dimensions\n",
    "            nn.Linear(patch_dim, dim),\n",
    "            # LayerNorm over the embedding dimension\n",
    "            nn.LayerNorm(dim),\n",
    "        )\n",
    "\n",
    "    def forward(self, img):\n",
    "        return self.net(img)"
   ]
  },
  {
   "cell_type": "code",
   "execution_count": null,
   "metadata": {
    "colab": {
     "base_uri": "https://localhost:8080/"
    },
    "executionInfo": {
     "elapsed": 261,
     "status": "ok",
     "timestamp": 1739737300530,
     "user": {
      "displayName": "Phuoc Ho Quang",
      "userId": "17998449024561865035"
     },
     "user_tz": -60
    },
    "id": "xV0ORGaYUzRh",
    "outputId": "bd2a9ac2-ec74-4a89-e156-6617edcc3937"
   },
   "outputs": [
    {
     "data": {
      "text/plain": [
       "torch.Size([10, 64, 48])"
      ]
     },
     "execution_count": 10,
     "metadata": {},
     "output_type": "execute_result"
    }
   ],
   "source": [
    "# Test the PatchEmbedding class by running this cell\n",
    "\n",
    "# We are dividing 32x32 input RGB images in 4x4 patches,\n",
    "# creating patch embeddings of dimension 4*4*3=48.\n",
    "\n",
    "# The output shape should be (10, 64, 48)\n",
    "\n",
    "temp = torch.randn(10, 3, 32, 32)\n",
    "temp = PatchEmbedding(32, 4, 48, 3)(temp)\n",
    "temp.shape"
   ]
  },
  {
   "cell_type": "markdown",
   "metadata": {
    "id": "L54WORwgggBA"
   },
   "source": [
    "<br>Next we focus on the MLP layers of the transformer encoder blocks.\n",
    "\n",
    "The attribute `self.net` is a `nn.Sequential` object that is used in the forward pass to apply an MLP to each token embedding. It consists of the following layers:\n",
    "- a `LayerNorm` layer, which computes the mean/variance separately for each token in the sequence (i.e. mean/variance over the `dim` embedding dimensions);\n",
    "- a `Linear` layer, which projects each token embedding from `dim` dimensions to `hidden_dim` dimensions;\n",
    "- a Gaussian Error Linear Unit (non-linearity);\n",
    "- a `Dropout` layer;\n",
    "- a `Linear` layer, which projects each token embedding back from `hidden_dim` dimensions to `dim` dimensions;\n",
    "- a second `Dropout` layer."
   ]
  },
  {
   "cell_type": "code",
   "execution_count": null,
   "metadata": {
    "id": "OACfPEt5cGqt"
   },
   "outputs": [],
   "source": [
    "class FeedForward(nn.Module):\n",
    "    def __init__(self, dim, hidden_dim, dropout=0.0):\n",
    "        \"\"\"\n",
    "        dim: D in the slides\n",
    "        hidden_dim: D_mlp in the slides\n",
    "        \"\"\"\n",
    "        super().__init__()\n",
    "        self.net = nn.Sequential(\n",
    "            nn.LayerNorm(dim),\n",
    "            nn.Linear(dim, hidden_dim),\n",
    "            nn.GELU(),\n",
    "            nn.Dropout(dropout),\n",
    "            nn.Linear(hidden_dim, dim),\n",
    "            nn.Dropout(dropout),\n",
    "        )\n",
    "\n",
    "    def forward(self, x):\n",
    "        return self.net(x)"
   ]
  },
  {
   "cell_type": "code",
   "execution_count": null,
   "metadata": {
    "colab": {
     "base_uri": "https://localhost:8080/"
    },
    "executionInfo": {
     "elapsed": 263,
     "status": "ok",
     "timestamp": 1739737303586,
     "user": {
      "displayName": "Phuoc Ho Quang",
      "userId": "17998449024561865035"
     },
     "user_tz": -60
    },
    "id": "TFBun1T2z5Nr",
    "outputId": "a98eb428-9977-4ff3-f0f2-4af1957eb1eb"
   },
   "outputs": [
    {
     "data": {
      "text/plain": [
       "torch.Size([10, 64, 48])"
      ]
     },
     "execution_count": 12,
     "metadata": {},
     "output_type": "execute_result"
    }
   ],
   "source": [
    "# Test the FeedForward class by running this cell\n",
    "\n",
    "# The input shape is (10, 64, 48), the output shape should be the same.\n",
    "\n",
    "temp = torch.randn(10, 64, 48)\n",
    "temp = FeedForward(dim=48, hidden_dim=48 * 2, dropout=0.1)(temp)\n",
    "temp.shape"
   ]
  },
  {
   "cell_type": "markdown",
   "metadata": {
    "id": "COKPVSUGhFoN"
   },
   "source": [
    "<br>Next, we turn to the Multi-Head Self-Attention layer. You can test it right below."
   ]
  },
  {
   "cell_type": "code",
   "execution_count": null,
   "metadata": {
    "id": "6MGCREPjg1mP"
   },
   "outputs": [],
   "source": [
    "class Attention(nn.Module):\n",
    "    def __init__(self, dim, heads=8, dim_head=64, dropout=0.0):\n",
    "        \"\"\"\n",
    "        dim: D in the slides\n",
    "        heads: number of attention heads in MHSA\n",
    "        dim_head: D_h in the slides\n",
    "        \"\"\"\n",
    "        super().__init__()\n",
    "        inner_dim = dim_head * heads\n",
    "        project_out = not (heads == 1 and dim_head == dim)\n",
    "\n",
    "        self.heads = heads\n",
    "        self.scale = (\n",
    "            dim_head**-0.5\n",
    "        )  # the multiplier that we apply to QK^T before taking the softmax\n",
    "\n",
    "        self.norm = nn.LayerNorm(dim)\n",
    "\n",
    "        self.attend = nn.Softmax(dim=-1)\n",
    "        self.dropout = nn.Dropout(dropout)\n",
    "\n",
    "        self.to_qkv = nn.Linear(dim, inner_dim * 3, bias=False)\n",
    "\n",
    "        self.to_out = (\n",
    "            nn.Sequential(nn.Linear(inner_dim, dim), nn.Dropout(dropout))\n",
    "            if project_out\n",
    "            else nn.Identity()\n",
    "        )\n",
    "\n",
    "    def forward(self, x):\n",
    "        # First apply the LayerNorm to the input:\n",
    "        x = self.norm(x)\n",
    "\n",
    "        # Compute the queries, keys, values from the input\n",
    "        qkv = self.to_qkv(x).chunk(3, dim=-1)\n",
    "        q, k, v = map(lambda t: rearrange(t, \"b n (h d) -> b h n d\", h=self.heads), qkv)\n",
    "\n",
    "        # Compute the similarities between queries and keys i.e., all the q_i^T k_j / sqrt(D_h)\n",
    "        dots = torch.einsum(\"bhid,bhjd->bhij\", q, k) * self.scale\n",
    "\n",
    "        # Compute the attention maps\n",
    "        attn = self.attend(dots)\n",
    "\n",
    "        # Apply dropout\n",
    "        attn = self.dropout(attn)\n",
    "\n",
    "        # Multiply the attention maps A with the values V\n",
    "        out = torch.einsum(\"bhij,bhjd->bhid\", attn, v)\n",
    "\n",
    "        # Reshape (in the slides, this corresponds to concatenating the output of each head) and project to the embedding dimension D\n",
    "        out = rearrange(out, \"b h n d -> b n (h d)\")\n",
    "        return self.to_out(out)"
   ]
  },
  {
   "cell_type": "code",
   "execution_count": null,
   "metadata": {
    "colab": {
     "base_uri": "https://localhost:8080/"
    },
    "executionInfo": {
     "elapsed": 2,
     "status": "ok",
     "timestamp": 1739737304157,
     "user": {
      "displayName": "Phuoc Ho Quang",
      "userId": "17998449024561865035"
     },
     "user_tz": -60
    },
    "id": "V3CpW1uH8hhB",
    "outputId": "fc094d6f-ff0c-42f8-93e9-e4539f499326"
   },
   "outputs": [
    {
     "data": {
      "text/plain": [
       "torch.Size([10, 64, 48])"
      ]
     },
     "execution_count": 14,
     "metadata": {},
     "output_type": "execute_result"
    }
   ],
   "source": [
    "# Test the Attention class by running this cell\n",
    "\n",
    "# The input shape is (10, 64, 48), the output shape should be the same.\n",
    "\n",
    "temp = torch.randn(10, 64, 48)\n",
    "temp = Attention(dim=48, heads=6, dim_head=8, dropout=0.1)(temp)\n",
    "temp.shape"
   ]
  },
  {
   "cell_type": "markdown",
   "metadata": {
    "id": "6zerzRNhiyDY"
   },
   "source": [
    "<br>Now we build the main body of the transformer (the chain of MHSA and MLP layers)."
   ]
  },
  {
   "cell_type": "code",
   "execution_count": null,
   "metadata": {
    "id": "zeCtrC0Jg1v1"
   },
   "outputs": [],
   "source": [
    "class Transformer(nn.Module):\n",
    "    def __init__(\n",
    "        self, dim, depth, heads, dim_head, mlp_dim, mlp_dropout=0.0, att_dropout=0.0\n",
    "    ):\n",
    "        \"\"\"\n",
    "        dim: D in the slides\n",
    "        depth: number of encoder layers/blocks\n",
    "        heads: number of attention heads for the MHSA\n",
    "        dim_head: D_h in the slides\n",
    "        mlp_dim: D_mlp in the slides\n",
    "        mlp_dropout: dropout probability for the MLP\n",
    "        att_dropout: dropout probability for the MHSA\n",
    "        \"\"\"\n",
    "        super().__init__()\n",
    "        self.norm = nn.LayerNorm(dim)\n",
    "        self.layers = nn.ModuleList([])\n",
    "        for _ in range(depth):\n",
    "            # Each layer contains first an Attention module, then a FeedForward module:\n",
    "            self.layers.append(\n",
    "                nn.ModuleList(\n",
    "                    [\n",
    "                        Attention(\n",
    "                            dim=dim, heads=heads, dim_head=dim_head, dropout=att_dropout\n",
    "                        ),\n",
    "                        FeedForward(dim, mlp_dim, dropout=mlp_dropout),\n",
    "                    ]\n",
    "                )\n",
    "            )\n",
    "\n",
    "    def forward(self, x):\n",
    "        # We go through each layer, and sequentially modify the input.\n",
    "        # Encoder blocks use residual connections around the MHSA and MLP layers:\n",
    "        for attn, ff in self.layers:\n",
    "            x = attn(x) + x\n",
    "            x = ff(x) + x\n",
    "\n",
    "        return self.norm(x)"
   ]
  },
  {
   "cell_type": "code",
   "execution_count": null,
   "metadata": {
    "colab": {
     "base_uri": "https://localhost:8080/"
    },
    "executionInfo": {
     "elapsed": 1,
     "status": "ok",
     "timestamp": 1739737307756,
     "user": {
      "displayName": "Phuoc Ho Quang",
      "userId": "17998449024561865035"
     },
     "user_tz": -60
    },
    "id": "4DPBsqBa9NJC",
    "outputId": "1a025a44-bc91-4a38-f5a1-1b9cde0e045d"
   },
   "outputs": [
    {
     "data": {
      "text/plain": [
       "torch.Size([10, 64, 48])"
      ]
     },
     "execution_count": 16,
     "metadata": {},
     "output_type": "execute_result"
    }
   ],
   "source": [
    "# Test the Transformer class by running this cell\n",
    "\n",
    "# The input shape is (10, 64, 48), the output shape should be the same.\n",
    "\n",
    "temp = torch.randn(10, 64, 48)\n",
    "temp = Transformer(\n",
    "    dim=48,\n",
    "    depth=3,\n",
    "    heads=6,\n",
    "    dim_head=8,\n",
    "    mlp_dim=48 * 2,\n",
    "    mlp_dropout=0.1,\n",
    "    att_dropout=0.1,\n",
    ")(temp)\n",
    "temp.shape"
   ]
  },
  {
   "cell_type": "markdown",
   "metadata": {
    "id": "g3H0Mjrmg_GT"
   },
   "source": [
    "<br>Finally, we put it all together in a ViT model:"
   ]
  },
  {
   "cell_type": "code",
   "execution_count": null,
   "metadata": {
    "id": "CQzj8mSZUoX7"
   },
   "outputs": [],
   "source": [
    "class ViT(nn.Module):\n",
    "    def __init__(\n",
    "        self,\n",
    "        *,\n",
    "        image_size,\n",
    "        patch_size,\n",
    "        num_classes,\n",
    "        dim,\n",
    "        depth,\n",
    "        heads,\n",
    "        mlp_dim,\n",
    "        pool=\"cls\",\n",
    "        channels=3,\n",
    "        dim_head=64,\n",
    "        mlp_dropout=0.0,\n",
    "        att_dropout=0.0,\n",
    "        emb_dropout=0.0\n",
    "    ):\n",
    "        super().__init__()\n",
    "\n",
    "        # Patch embedding section\n",
    "        self.to_patch_embedding = PatchEmbedding(image_size, patch_size, dim, channels)\n",
    "\n",
    "        assert pool in {\n",
    "            \"cls\",\n",
    "            \"mean\",\n",
    "        }, \"pool type must be either cls (cls token) or mean (mean pooling)\"\n",
    "\n",
    "        # Learnable positional embeddings and cls token\n",
    "        self.pos_embedding = nn.Parameter(\n",
    "            torch.randn(1, self.to_patch_embedding.num_patches + 1, dim)\n",
    "        )\n",
    "        self.cls_token = nn.Parameter(torch.randn(1, 1, dim))\n",
    "        self.dropout = nn.Dropout(emb_dropout)\n",
    "\n",
    "        # Main body of the transformer (all encoder blocks)\n",
    "        self.transformer = Transformer(\n",
    "            dim, depth, heads, dim_head, mlp_dim, mlp_dropout, att_dropout\n",
    "        )\n",
    "\n",
    "        # cls token or global average pooling\n",
    "        self.pool = pool\n",
    "\n",
    "        # classification head\n",
    "        self.mlp_head = nn.Linear(dim, num_classes)\n",
    "\n",
    "    def forward(self, img):\n",
    "        # Transform images into sequences of patches\n",
    "        x = self.to_patch_embedding(img)\n",
    "\n",
    "        # Retrieve dimensions\n",
    "        b, n, _ = x.shape\n",
    "\n",
    "        # Append the class token before the spatial tokens\n",
    "        cls_tokens = repeat(self.cls_token, \"1 1 d -> b 1 d\", b=b)\n",
    "        x = torch.cat((cls_tokens, x), dim=1)\n",
    "\n",
    "        # Add the positional embeddings\n",
    "        x += self.pos_embedding[:, : (n + 1)]\n",
    "\n",
    "        # Apply dropout\n",
    "        x = self.dropout(x)\n",
    "\n",
    "        # Forward the embeddings through the transformer blocks\n",
    "        x = self.transformer(x)\n",
    "\n",
    "        # Retrieve the relevant output, either the cls token embedding, or the average pooling of all tokens (including the class token)\n",
    "        # Hint: at this stage, the embeddings x are a (B, N+1, D) tensor with the class token in front of the N spatial tokens\n",
    "        x = x.mean(dim=1) if self.pool == \"mean\" else x[:, 0]\n",
    "\n",
    "        # Apply the classification head to map to a vector of unnormalized probabilities\n",
    "        return self.mlp_head(x)"
   ]
  },
  {
   "cell_type": "code",
   "execution_count": null,
   "metadata": {
    "colab": {
     "base_uri": "https://localhost:8080/"
    },
    "executionInfo": {
     "elapsed": 228,
     "status": "ok",
     "timestamp": 1739737313863,
     "user": {
      "displayName": "Phuoc Ho Quang",
      "userId": "17998449024561865035"
     },
     "user_tz": -60
    },
    "id": "jBHllViJ-auA",
    "outputId": "38f76071-9938-4482-d0bf-7f104c720183"
   },
   "outputs": [
    {
     "data": {
      "text/plain": [
       "torch.Size([10, 5])"
      ]
     },
     "execution_count": 18,
     "metadata": {},
     "output_type": "execute_result"
    }
   ],
   "source": [
    "# Test the ViT class by running this cell\n",
    "\n",
    "# We input a batch of 32x32 RGB images,\n",
    "# we output a vector of probabilities (say, 5 classes).\n",
    "\n",
    "# The output shape should be (10, 5)\n",
    "pool = \"cls\"\n",
    "temp = torch.randn(10, 3, 32, 32)\n",
    "\n",
    "temp = ViT(\n",
    "    image_size=32,\n",
    "    patch_size=8,\n",
    "    num_classes=5,\n",
    "    dim=8 * 8 * 3,\n",
    "    depth=3,\n",
    "    heads=6,\n",
    "    mlp_dim=768,\n",
    "    pool=pool,\n",
    "    channels=3,\n",
    "    dim_head=32,\n",
    "    mlp_dropout=0.1,\n",
    "    att_dropout=0.1,\n",
    "    emb_dropout=0.1,\n",
    ")(temp)\n",
    "temp.shape"
   ]
  },
  {
   "cell_type": "markdown",
   "metadata": {
    "id": "9D1PFmAMVQGc"
   },
   "source": [
    "# Instantiate a ViT model, train it and test it:"
   ]
  },
  {
   "cell_type": "markdown",
   "metadata": {
    "id": "uexAt-dtHvoQ"
   },
   "source": [
    "We will use the GPU if it is available on your machine, otherwise the CPU. We do so by putting the model and data on the active device with `.to(device)`. GPU training is 6-10x faster here."
   ]
  },
  {
   "cell_type": "code",
   "execution_count": null,
   "metadata": {
    "colab": {
     "base_uri": "https://localhost:8080/"
    },
    "executionInfo": {
     "elapsed": 190,
     "status": "ok",
     "timestamp": 1739737316156,
     "user": {
      "displayName": "Phuoc Ho Quang",
      "userId": "17998449024561865035"
     },
     "user_tz": -60
    },
    "id": "ngX-L-3sHwp3",
    "outputId": "d6c80c90-4ddb-401b-a968-85b7079e6a76"
   },
   "outputs": [
    {
     "name": "stdout",
     "output_type": "stream",
     "text": [
      "cuda:0\n"
     ]
    }
   ],
   "source": [
    "device = torch.device(\"cuda:0\" if torch.cuda.is_available() else \"cpu\")\n",
    "print(device)"
   ]
  },
  {
   "cell_type": "markdown",
   "metadata": {
    "id": "2PVLE8l7WL53"
   },
   "source": [
    "To keep the model trainable in limited time, we choose the following settings:\n",
    "- We tokenize the input image in $4\\times 4$ patches (3 channels)\n",
    "- We use 2 transformer encoder blocks\n",
    "- We embed the patch to $D$ dimension, where $D$ preserves the input dimension of the patch (invertible mapping)\n",
    "- We opt for multihead self-attention layers, with 6 heads\n",
    "- We reduce the width of the hidden layers in MLP from $4D$ down to $2D$ to reduce the number of parameters\n",
    "- The output of each self-attention head $SA_k(X)$ is of dimension $(B\\times N\\times)D_h$, where $D_h$ is set such that when concatenating the result of all heads, we get an object if dimension $(B\\times N\\times)D$\n",
    "- We leave the dropout probability in MLP layers at $0.1$"
   ]
  },
  {
   "cell_type": "code",
   "execution_count": null,
   "metadata": {
    "id": "OEs-EnXLW1-4"
   },
   "outputs": [],
   "source": [
    "learning_rate = 0.01\n",
    "n_epochs = 50\n",
    "batch_size = 128\n",
    "num_classes = 10\n",
    "\n",
    "# Transformer parameters\n",
    "dim = 4 * 4 * 3  # Embedding dimension D\n",
    "depth = 2  # Number of encoder blocks\n",
    "heads = 6  # Number of attention heads in MHSA\n",
    "mlp_dim = 2 * dim  # Dimension of the hidden layer in MLP layers\n",
    "dim_head = dim // heads  # Embedding dimension of Q, K, V in self-attention layers\n",
    "mlp_dropout = 0.1  # Dropout probability in MLP layers\n",
    "pool = \"cls\"  # 'cls' to use the cls token only for classification, 'mean' to use global average pooling of the tokens"
   ]
  },
  {
   "cell_type": "markdown",
   "metadata": {
    "id": "rDK031kYafcx"
   },
   "source": [
    "<br>We create two convenience functions:\n",
    "- to transform a class probability tensor to class labels\n",
    "- to compute the prediction accuracy from predicted and ground truth labels"
   ]
  },
  {
   "cell_type": "code",
   "execution_count": null,
   "metadata": {
    "id": "WuMqpS9M2xsp"
   },
   "outputs": [],
   "source": [
    "def vector_to_class(x):\n",
    "    y = torch.argmax(x, dim=1)\n",
    "    return y"
   ]
  },
  {
   "cell_type": "code",
   "execution_count": null,
   "metadata": {
    "id": "wgXdu5xJ2y2E"
   },
   "outputs": [],
   "source": [
    "def prediction_accuracy(predict, labels):\n",
    "    accuracy = np.mean(predict == labels)\n",
    "    return accuracy"
   ]
  },
  {
   "cell_type": "markdown",
   "metadata": {
    "id": "hbwPLf4tTxwr"
   },
   "source": [
    "<br>We create the dataloader, to feed CIFAR training/test data in minibatches:"
   ]
  },
  {
   "cell_type": "code",
   "execution_count": null,
   "metadata": {
    "id": "FLX42JYv_VQD"
   },
   "outputs": [],
   "source": [
    "cifar_train_loader = torch.utils.data.DataLoader(\n",
    "    cifar_trainset, batch_size=batch_size, shuffle=True\n",
    ")\n",
    "cifar_test_loader = torch.utils.data.DataLoader(\n",
    "    cifar_testset, batch_size=batch_size, shuffle=True\n",
    ")"
   ]
  },
  {
   "cell_type": "markdown",
   "metadata": {
    "id": "I0ACZkTFW1-7"
   },
   "source": [
    "<br>Now, we instantiate a ViT model with the desired parameters:"
   ]
  },
  {
   "cell_type": "code",
   "execution_count": null,
   "metadata": {
    "id": "RmbX6oq0W1-7"
   },
   "outputs": [],
   "source": [
    "# Define the ViT model with the correct arguments:\n",
    "cifar_model = ViT(\n",
    "    image_size=32,\n",
    "    patch_size=4,\n",
    "    num_classes=num_classes,\n",
    "    dim=dim,\n",
    "    depth=depth,\n",
    "    heads=heads,\n",
    "    mlp_dim=mlp_dim,\n",
    "    pool=pool,\n",
    "    mlp_dropout=mlp_dropout,\n",
    ")"
   ]
  },
  {
   "cell_type": "code",
   "execution_count": null,
   "metadata": {
    "id": "9wwNbP6lH80d"
   },
   "outputs": [],
   "source": [
    "cifar_model = cifar_model.to(device)"
   ]
  },
  {
   "cell_type": "markdown",
   "metadata": {
    "id": "vg4gHN4hZAJ3"
   },
   "source": [
    "<br>Finally, we instantiate the loss function and optimizer:"
   ]
  },
  {
   "cell_type": "code",
   "execution_count": null,
   "metadata": {
    "id": "LA4Tke1vZECT"
   },
   "outputs": [],
   "source": [
    "criterion = torch.nn.CrossEntropyLoss(reduction=\"sum\")\n",
    "optimizer = torch.optim.AdamW(\n",
    "    cifar_model.parameters(), lr=learning_rate, weight_decay=1e-4\n",
    ")"
   ]
  },
  {
   "cell_type": "markdown",
   "metadata": {
    "id": "KUmQKIEe8_QU"
   },
   "source": [
    "<br>Now, we carry out training on the CIFAR10 dataset."
   ]
  },
  {
   "cell_type": "code",
   "execution_count": null,
   "metadata": {
    "colab": {
     "base_uri": "https://localhost:8080/"
    },
    "executionInfo": {
     "elapsed": 633519,
     "status": "ok",
     "timestamp": 1739720033285,
     "user": {
      "displayName": "Phuoc Ho Quang",
      "userId": "17998449024561865035"
     },
     "user_tz": -60
    },
    "id": "pyEwLnLR9gv0",
    "outputId": "80692592-0347-482e-ef90-f7756b2023ee"
   },
   "outputs": [
    {
     "name": "stderr",
     "output_type": "stream",
     "text": [
      "Epoch 1: 100%|██████████| 391/391 [00:15<00:00, 25.94batch/s]\n",
      "Epoch 2: 100%|██████████| 391/391 [00:12<00:00, 31.27batch/s]\n",
      "Epoch 3: 100%|██████████| 391/391 [00:12<00:00, 31.22batch/s]\n",
      "Epoch 4: 100%|██████████| 391/391 [00:12<00:00, 31.03batch/s]\n",
      "Epoch 5: 100%|██████████| 391/391 [00:12<00:00, 31.06batch/s]\n"
     ]
    },
    {
     "name": "stdout",
     "output_type": "stream",
     "text": [
      "Epoch 5: Train Loss: 1.2598\n",
      "Epoch 5: Train Accuracy: 0.5438\n"
     ]
    },
    {
     "name": "stderr",
     "output_type": "stream",
     "text": [
      "Epoch 6: 100%|██████████| 391/391 [00:12<00:00, 31.04batch/s]\n",
      "Epoch 7: 100%|██████████| 391/391 [00:13<00:00, 29.43batch/s]\n",
      "Epoch 8: 100%|██████████| 391/391 [00:12<00:00, 30.84batch/s]\n",
      "Epoch 9: 100%|██████████| 391/391 [00:12<00:00, 30.89batch/s]\n",
      "Epoch 10: 100%|██████████| 391/391 [00:12<00:00, 31.19batch/s]\n"
     ]
    },
    {
     "name": "stdout",
     "output_type": "stream",
     "text": [
      "Epoch 10: Train Loss: 1.0861\n",
      "Epoch 10: Train Accuracy: 0.6095\n"
     ]
    },
    {
     "name": "stderr",
     "output_type": "stream",
     "text": [
      "Epoch 11: 100%|██████████| 391/391 [00:12<00:00, 31.05batch/s]\n",
      "Epoch 12: 100%|██████████| 391/391 [00:12<00:00, 31.18batch/s]\n",
      "Epoch 13: 100%|██████████| 391/391 [00:12<00:00, 30.87batch/s]\n",
      "Epoch 14: 100%|██████████| 391/391 [00:12<00:00, 31.21batch/s]\n",
      "Epoch 15: 100%|██████████| 391/391 [00:12<00:00, 30.97batch/s]\n"
     ]
    },
    {
     "name": "stdout",
     "output_type": "stream",
     "text": [
      "Epoch 15: Train Loss: 0.9816\n",
      "Epoch 15: Train Accuracy: 0.6465\n"
     ]
    },
    {
     "name": "stderr",
     "output_type": "stream",
     "text": [
      "Epoch 16: 100%|██████████| 391/391 [00:12<00:00, 31.00batch/s]\n",
      "Epoch 17: 100%|██████████| 391/391 [00:12<00:00, 31.01batch/s]\n",
      "Epoch 18: 100%|██████████| 391/391 [00:12<00:00, 31.07batch/s]\n",
      "Epoch 19: 100%|██████████| 391/391 [00:12<00:00, 31.29batch/s]\n",
      "Epoch 20: 100%|██████████| 391/391 [00:12<00:00, 30.91batch/s]\n"
     ]
    },
    {
     "name": "stdout",
     "output_type": "stream",
     "text": [
      "Epoch 20: Train Loss: 0.9073\n",
      "Epoch 20: Train Accuracy: 0.6726\n"
     ]
    },
    {
     "name": "stderr",
     "output_type": "stream",
     "text": [
      "Epoch 21: 100%|██████████| 391/391 [00:12<00:00, 31.07batch/s]\n",
      "Epoch 22: 100%|██████████| 391/391 [00:12<00:00, 31.10batch/s]\n",
      "Epoch 23: 100%|██████████| 391/391 [00:12<00:00, 30.90batch/s]\n",
      "Epoch 24: 100%|██████████| 391/391 [00:12<00:00, 31.17batch/s]\n",
      "Epoch 25: 100%|██████████| 391/391 [00:12<00:00, 31.16batch/s]\n"
     ]
    },
    {
     "name": "stdout",
     "output_type": "stream",
     "text": [
      "Epoch 25: Train Loss: 0.8432\n",
      "Epoch 25: Train Accuracy: 0.6976\n"
     ]
    },
    {
     "name": "stderr",
     "output_type": "stream",
     "text": [
      "Epoch 26: 100%|██████████| 391/391 [00:12<00:00, 31.20batch/s]\n",
      "Epoch 27: 100%|██████████| 391/391 [00:12<00:00, 31.01batch/s]\n",
      "Epoch 28: 100%|██████████| 391/391 [00:12<00:00, 31.08batch/s]\n",
      "Epoch 29: 100%|██████████| 391/391 [00:12<00:00, 30.88batch/s]\n",
      "Epoch 30: 100%|██████████| 391/391 [00:12<00:00, 30.97batch/s]\n"
     ]
    },
    {
     "name": "stdout",
     "output_type": "stream",
     "text": [
      "Epoch 30: Train Loss: 0.7879\n",
      "Epoch 30: Train Accuracy: 0.7174\n"
     ]
    },
    {
     "name": "stderr",
     "output_type": "stream",
     "text": [
      "Epoch 31: 100%|██████████| 391/391 [00:12<00:00, 31.17batch/s]\n",
      "Epoch 32: 100%|██████████| 391/391 [00:12<00:00, 30.88batch/s]\n",
      "Epoch 33: 100%|██████████| 391/391 [00:12<00:00, 31.27batch/s]\n",
      "Epoch 34: 100%|██████████| 391/391 [00:12<00:00, 30.94batch/s]\n",
      "Epoch 35: 100%|██████████| 391/391 [00:12<00:00, 30.79batch/s]\n"
     ]
    },
    {
     "name": "stdout",
     "output_type": "stream",
     "text": [
      "Epoch 35: Train Loss: 0.7411\n",
      "Epoch 35: Train Accuracy: 0.7335\n"
     ]
    },
    {
     "name": "stderr",
     "output_type": "stream",
     "text": [
      "Epoch 36: 100%|██████████| 391/391 [00:12<00:00, 30.72batch/s]\n",
      "Epoch 37: 100%|██████████| 391/391 [00:12<00:00, 30.83batch/s]\n",
      "Epoch 38: 100%|██████████| 391/391 [00:12<00:00, 30.75batch/s]\n",
      "Epoch 39: 100%|██████████| 391/391 [00:12<00:00, 30.97batch/s]\n",
      "Epoch 40: 100%|██████████| 391/391 [00:12<00:00, 31.02batch/s]\n"
     ]
    },
    {
     "name": "stdout",
     "output_type": "stream",
     "text": [
      "Epoch 40: Train Loss: 0.7012\n",
      "Epoch 40: Train Accuracy: 0.7448\n"
     ]
    },
    {
     "name": "stderr",
     "output_type": "stream",
     "text": [
      "Epoch 41: 100%|██████████| 391/391 [00:12<00:00, 31.08batch/s]\n",
      "Epoch 42: 100%|██████████| 391/391 [00:12<00:00, 31.10batch/s]\n",
      "Epoch 43: 100%|██████████| 391/391 [00:12<00:00, 31.29batch/s]\n",
      "Epoch 44: 100%|██████████| 391/391 [00:12<00:00, 31.14batch/s]\n",
      "Epoch 45: 100%|██████████| 391/391 [00:12<00:00, 31.09batch/s]\n"
     ]
    },
    {
     "name": "stdout",
     "output_type": "stream",
     "text": [
      "Epoch 45: Train Loss: 0.6648\n",
      "Epoch 45: Train Accuracy: 0.7567\n"
     ]
    },
    {
     "name": "stderr",
     "output_type": "stream",
     "text": [
      "Epoch 46: 100%|██████████| 391/391 [00:12<00:00, 30.82batch/s]\n",
      "Epoch 47: 100%|██████████| 391/391 [00:12<00:00, 31.15batch/s]\n",
      "Epoch 48: 100%|██████████| 391/391 [00:12<00:00, 31.05batch/s]\n",
      "Epoch 49: 100%|██████████| 391/391 [00:12<00:00, 31.01batch/s]\n",
      "Epoch 50: 100%|██████████| 391/391 [00:12<00:00, 31.07batch/s]\n"
     ]
    },
    {
     "name": "stdout",
     "output_type": "stream",
     "text": [
      "Epoch 50: Train Loss: 0.6218\n",
      "Epoch 50: Train Accuracy: 0.7751\n"
     ]
    }
   ],
   "source": [
    "cifar_model.train()\n",
    "\n",
    "for epoch in range(1, n_epochs + 1):\n",
    "    train_loss = 0.0\n",
    "    all_labels = []\n",
    "    all_predicted = []\n",
    "\n",
    "    with tqdm(cifar_train_loader, unit=\"batch\") as tepoch:\n",
    "        for imgs, labels in tepoch:\n",
    "            tepoch.set_description(f\"Epoch {epoch}\")\n",
    "\n",
    "            # Put the data on device\n",
    "            imgs = imgs.to(device)\n",
    "            labels = labels.to(device)\n",
    "\n",
    "            # Forward and backward passes\n",
    "            predict = cifar_model(imgs)\n",
    "            loss = criterion(predict, labels)\n",
    "            loss.backward()\n",
    "            optimizer.step()\n",
    "            optimizer.zero_grad()\n",
    "\n",
    "            # Compute the loss\n",
    "            train_loss += loss.item()\n",
    "            # Store labels and class predictions\n",
    "            all_labels.extend(labels.tolist())\n",
    "            all_predicted.extend(vector_to_class(predict).tolist())\n",
    "    if epoch % 5 == 0:\n",
    "        print(\n",
    "            \"Epoch {}: Train Loss: {:.4f}\".format(\n",
    "                epoch, train_loss / len(cifar_train_loader.dataset)\n",
    "            )\n",
    "        )\n",
    "        print(\n",
    "            \"Epoch {}: Train Accuracy: {:.4f}\".format(\n",
    "                epoch,\n",
    "                prediction_accuracy(np.array(all_predicted), np.array(all_labels)),\n",
    "            )\n",
    "        )"
   ]
  },
  {
   "cell_type": "markdown",
   "metadata": {
    "id": "s1MCXQIcZYF5"
   },
   "source": [
    "<br>Let's compute the test accuracy:"
   ]
  },
  {
   "cell_type": "code",
   "execution_count": null,
   "metadata": {
    "colab": {
     "base_uri": "https://localhost:8080/"
    },
    "executionInfo": {
     "elapsed": 2271,
     "status": "ok",
     "timestamp": 1739720073802,
     "user": {
      "displayName": "Phuoc Ho Quang",
      "userId": "17998449024561865035"
     },
     "user_tz": -60
    },
    "id": "a8VvPS8WQ92b",
    "outputId": "7fdae5f9-b2ae-448d-a5f3-44b4e7d8b82a"
   },
   "outputs": [
    {
     "name": "stderr",
     "output_type": "stream",
     "text": [
      "100%|██████████| 79/79 [00:02<00:00, 36.24batch/s]"
     ]
    },
    {
     "name": "stdout",
     "output_type": "stream",
     "text": [
      "\n",
      "Test Accuracy: 0.6175\n"
     ]
    },
    {
     "name": "stderr",
     "output_type": "stream",
     "text": [
      "\n"
     ]
    }
   ],
   "source": [
    "cifar_model.eval()\n",
    "\n",
    "all_predicted = []\n",
    "all_labels = []\n",
    "\n",
    "with tqdm(cifar_test_loader, unit=\"batch\") as tepoch:\n",
    "    for imgs, labels in tepoch:\n",
    "        all_labels.extend(labels.tolist())\n",
    "\n",
    "        imgs = imgs.to(device)\n",
    "        predict = cifar_model(imgs)\n",
    "        all_predicted.extend(vector_to_class(predict).tolist())\n",
    "\n",
    "test_accuracy = prediction_accuracy(np.array(all_predicted), np.array(all_labels))\n",
    "\n",
    "print(\"\\nTest Accuracy:\", test_accuracy)"
   ]
  },
  {
   "cell_type": "markdown",
   "metadata": {
    "id": "aMijXuPBbVfy"
   },
   "source": [
    "I try with different hyper-parameters."
   ]
  },
  {
   "cell_type": "code",
   "execution_count": null,
   "metadata": {
    "colab": {
     "base_uri": "https://localhost:8080/"
    },
    "executionInfo": {
     "elapsed": 2008329,
     "status": "ok",
     "timestamp": 1739741547466,
     "user": {
      "displayName": "Phuoc Ho Quang",
      "userId": "17998449024561865035"
     },
     "user_tz": -60
    },
    "id": "JHqPJLywbcVc",
    "outputId": "967892f0-042c-440b-fa71-b49139c136ce"
   },
   "outputs": [
    {
     "name": "stderr",
     "output_type": "stream",
     "text": [
      "Epoch 1: 100%|██████████| 391/391 [00:40<00:00,  9.57batch/s]\n",
      "Epoch 2: 100%|██████████| 391/391 [00:40<00:00,  9.63batch/s]\n",
      "Epoch 3: 100%|██████████| 391/391 [00:40<00:00,  9.65batch/s]\n",
      "Epoch 4: 100%|██████████| 391/391 [00:40<00:00,  9.70batch/s]\n",
      "Epoch 5: 100%|██████████| 391/391 [00:40<00:00,  9.77batch/s]\n"
     ]
    },
    {
     "name": "stdout",
     "output_type": "stream",
     "text": [
      "Epoch 5: Train Loss: 0.7413\n",
      "Epoch 5: Train Accuracy: 0.7367\n"
     ]
    },
    {
     "name": "stderr",
     "output_type": "stream",
     "text": [
      "Epoch 6: 100%|██████████| 391/391 [00:40<00:00,  9.75batch/s]\n",
      "Epoch 7: 100%|██████████| 391/391 [00:39<00:00,  9.79batch/s]\n",
      "Epoch 8: 100%|██████████| 391/391 [00:39<00:00,  9.79batch/s]\n",
      "Epoch 9: 100%|██████████| 391/391 [00:40<00:00,  9.76batch/s]\n",
      "Epoch 10: 100%|██████████| 391/391 [00:39<00:00,  9.79batch/s]\n"
     ]
    },
    {
     "name": "stdout",
     "output_type": "stream",
     "text": [
      "Epoch 10: Train Loss: 0.3038\n",
      "Epoch 10: Train Accuracy: 0.8915\n"
     ]
    },
    {
     "name": "stderr",
     "output_type": "stream",
     "text": [
      "Epoch 11: 100%|██████████| 391/391 [00:39<00:00,  9.83batch/s]\n",
      "Epoch 12: 100%|██████████| 391/391 [00:39<00:00,  9.81batch/s]\n",
      "Epoch 13: 100%|██████████| 391/391 [00:39<00:00,  9.78batch/s]\n",
      "Epoch 14: 100%|██████████| 391/391 [00:39<00:00,  9.80batch/s]\n",
      "Epoch 15: 100%|██████████| 391/391 [00:39<00:00,  9.80batch/s]\n"
     ]
    },
    {
     "name": "stdout",
     "output_type": "stream",
     "text": [
      "Epoch 15: Train Loss: 0.1663\n",
      "Epoch 15: Train Accuracy: 0.9407\n"
     ]
    },
    {
     "name": "stderr",
     "output_type": "stream",
     "text": [
      "Epoch 16: 100%|██████████| 391/391 [00:40<00:00,  9.75batch/s]\n",
      "Epoch 17: 100%|██████████| 391/391 [00:39<00:00,  9.80batch/s]\n",
      "Epoch 18: 100%|██████████| 391/391 [00:39<00:00,  9.81batch/s]\n",
      "Epoch 19: 100%|██████████| 391/391 [00:39<00:00,  9.78batch/s]\n",
      "Epoch 20: 100%|██████████| 391/391 [00:39<00:00,  9.80batch/s]\n"
     ]
    },
    {
     "name": "stdout",
     "output_type": "stream",
     "text": [
      "Epoch 20: Train Loss: 0.1220\n",
      "Epoch 20: Train Accuracy: 0.9573\n"
     ]
    },
    {
     "name": "stderr",
     "output_type": "stream",
     "text": [
      "Epoch 21: 100%|██████████| 391/391 [00:40<00:00,  9.72batch/s]\n",
      "Epoch 22: 100%|██████████| 391/391 [00:40<00:00,  9.69batch/s]\n",
      "Epoch 23: 100%|██████████| 391/391 [00:40<00:00,  9.70batch/s]\n",
      "Epoch 24: 100%|██████████| 391/391 [00:39<00:00,  9.78batch/s]\n",
      "Epoch 25: 100%|██████████| 391/391 [00:39<00:00,  9.79batch/s]\n"
     ]
    },
    {
     "name": "stdout",
     "output_type": "stream",
     "text": [
      "Epoch 25: Train Loss: 0.1063\n",
      "Epoch 25: Train Accuracy: 0.9626\n"
     ]
    },
    {
     "name": "stderr",
     "output_type": "stream",
     "text": [
      "Epoch 26: 100%|██████████| 391/391 [00:40<00:00,  9.76batch/s]\n",
      "Epoch 27: 100%|██████████| 391/391 [00:40<00:00,  9.77batch/s]\n",
      "Epoch 28: 100%|██████████| 391/391 [00:39<00:00,  9.81batch/s]\n",
      "Epoch 29: 100%|██████████| 391/391 [00:40<00:00,  9.77batch/s]\n",
      "Epoch 30: 100%|██████████| 391/391 [00:39<00:00,  9.82batch/s]\n"
     ]
    },
    {
     "name": "stdout",
     "output_type": "stream",
     "text": [
      "Epoch 30: Train Loss: 0.0816\n",
      "Epoch 30: Train Accuracy: 0.9722\n"
     ]
    },
    {
     "name": "stderr",
     "output_type": "stream",
     "text": [
      "Epoch 31: 100%|██████████| 391/391 [00:39<00:00,  9.80batch/s]\n",
      "Epoch 32: 100%|██████████| 391/391 [00:40<00:00,  9.70batch/s]\n",
      "Epoch 33: 100%|██████████| 391/391 [00:40<00:00,  9.70batch/s]\n",
      "Epoch 34: 100%|██████████| 391/391 [00:40<00:00,  9.70batch/s]\n",
      "Epoch 35: 100%|██████████| 391/391 [00:40<00:00,  9.70batch/s]\n"
     ]
    },
    {
     "name": "stdout",
     "output_type": "stream",
     "text": [
      "Epoch 35: Train Loss: 0.0605\n",
      "Epoch 35: Train Accuracy: 0.9798\n"
     ]
    },
    {
     "name": "stderr",
     "output_type": "stream",
     "text": [
      "Epoch 36: 100%|██████████| 391/391 [00:40<00:00,  9.77batch/s]\n",
      "Epoch 37: 100%|██████████| 391/391 [00:39<00:00,  9.79batch/s]\n",
      "Epoch 38: 100%|██████████| 391/391 [00:39<00:00,  9.78batch/s]\n",
      "Epoch 39: 100%|██████████| 391/391 [00:39<00:00,  9.78batch/s]\n",
      "Epoch 40: 100%|██████████| 391/391 [00:40<00:00,  9.76batch/s]\n"
     ]
    },
    {
     "name": "stdout",
     "output_type": "stream",
     "text": [
      "Epoch 40: Train Loss: 0.0663\n",
      "Epoch 40: Train Accuracy: 0.9765\n"
     ]
    },
    {
     "name": "stderr",
     "output_type": "stream",
     "text": [
      "Epoch 41: 100%|██████████| 391/391 [00:40<00:00,  9.67batch/s]\n",
      "Epoch 42: 100%|██████████| 391/391 [00:40<00:00,  9.70batch/s]\n",
      "Epoch 43: 100%|██████████| 391/391 [00:40<00:00,  9.75batch/s]\n",
      "Epoch 44: 100%|██████████| 391/391 [00:39<00:00,  9.78batch/s]\n",
      "Epoch 45: 100%|██████████| 391/391 [00:40<00:00,  9.74batch/s]\n"
     ]
    },
    {
     "name": "stdout",
     "output_type": "stream",
     "text": [
      "Epoch 45: Train Loss: 0.0626\n",
      "Epoch 45: Train Accuracy: 0.9780\n"
     ]
    },
    {
     "name": "stderr",
     "output_type": "stream",
     "text": [
      "Epoch 46: 100%|██████████| 391/391 [00:39<00:00,  9.78batch/s]\n",
      "Epoch 47: 100%|██████████| 391/391 [00:39<00:00,  9.81batch/s]\n",
      "Epoch 48: 100%|██████████| 391/391 [00:40<00:00,  9.72batch/s]\n",
      "Epoch 49: 100%|██████████| 391/391 [00:40<00:00,  9.77batch/s]\n",
      "Epoch 50: 100%|██████████| 391/391 [00:40<00:00,  9.74batch/s]\n"
     ]
    },
    {
     "name": "stdout",
     "output_type": "stream",
     "text": [
      "Epoch 50: Train Loss: 0.0489\n",
      "Epoch 50: Train Accuracy: 0.9836\n"
     ]
    },
    {
     "name": "stderr",
     "output_type": "stream",
     "text": [
      "100%|██████████| 79/79 [00:03<00:00, 22.48batch/s]"
     ]
    },
    {
     "name": "stdout",
     "output_type": "stream",
     "text": [
      "\n",
      "Test Accuracy: 0.6273\n"
     ]
    },
    {
     "name": "stderr",
     "output_type": "stream",
     "text": [
      "\n"
     ]
    }
   ],
   "source": [
    "learning_rate = 5e-4\n",
    "n_epochs = 50\n",
    "batch_size = 128\n",
    "num_classes = 10\n",
    "\n",
    "# Transformer parameters\n",
    "dim = 8 * 8 * 3  # Embedding dimension D\n",
    "depth = 4  # Number of encoder blocks\n",
    "heads = 12  # Number of attention heads in MHSA\n",
    "mlp_dim = 2 * dim  # Dimension of the hidden layer in MLP layers\n",
    "dim_head = dim // heads  # Embedding dimension of Q, K, V in self-attention layers\n",
    "mlp_dropout = 0.1  # Dropout probability in MLP layers\n",
    "pool = \"mean\"  # 'cls' to use the cls token only for classification, 'mean' to use global average pooling of the tokens\n",
    "\n",
    "cifar_model = ViT(\n",
    "    image_size=32,\n",
    "    patch_size=4,\n",
    "    num_classes=num_classes,\n",
    "    dim=dim,\n",
    "    depth=depth,\n",
    "    heads=heads,\n",
    "    mlp_dim=mlp_dim,\n",
    "    pool=pool,\n",
    "    mlp_dropout=mlp_dropout,\n",
    ")\n",
    "cifar_model = cifar_model.to(device)\n",
    "criterion = torch.nn.CrossEntropyLoss(reduction=\"sum\")\n",
    "optimizer = torch.optim.AdamW(\n",
    "    cifar_model.parameters(), lr=learning_rate, weight_decay=1e-4\n",
    ")\n",
    "cifar_model.train()\n",
    "\n",
    "for epoch in range(1, n_epochs + 1):\n",
    "    train_loss = 0.0\n",
    "    all_labels = []\n",
    "    all_predicted = []\n",
    "\n",
    "    with tqdm(cifar_train_loader, unit=\"batch\") as tepoch:\n",
    "        for imgs, labels in tepoch:\n",
    "            tepoch.set_description(f\"Epoch {epoch}\")\n",
    "\n",
    "            # Put the data on device\n",
    "            imgs = imgs.to(device)\n",
    "            labels = labels.to(device)\n",
    "\n",
    "            # Forward and backward passes\n",
    "            predict = cifar_model(imgs)\n",
    "            loss = criterion(predict, labels)\n",
    "            loss.backward()\n",
    "            optimizer.step()\n",
    "            optimizer.zero_grad()\n",
    "\n",
    "            # Compute the loss\n",
    "            train_loss += loss.item()\n",
    "            # Store labels and class predictions\n",
    "            all_labels.extend(labels.tolist())\n",
    "            all_predicted.extend(vector_to_class(predict).tolist())\n",
    "    if epoch % 5 == 0:\n",
    "        print(\n",
    "            \"Epoch {}: Train Loss: {:.4f}\".format(\n",
    "                epoch, train_loss / len(cifar_train_loader.dataset)\n",
    "            )\n",
    "        )\n",
    "        print(\n",
    "            \"Epoch {}: Train Accuracy: {:.4f}\".format(\n",
    "                epoch,\n",
    "                prediction_accuracy(np.array(all_predicted), np.array(all_labels)),\n",
    "            )\n",
    "        )\n",
    "\n",
    "\n",
    "# Compute the test accuracy\n",
    "cifar_model.eval()\n",
    "\n",
    "all_predicted = []\n",
    "all_labels = []\n",
    "\n",
    "with tqdm(cifar_test_loader, unit=\"batch\") as tepoch:\n",
    "    for imgs, labels in tepoch:\n",
    "        all_labels.extend(labels.tolist())\n",
    "\n",
    "        imgs = imgs.to(device)\n",
    "        predict = cifar_model(imgs)\n",
    "        all_predicted.extend(vector_to_class(predict).tolist())\n",
    "\n",
    "test_accuracy = prediction_accuracy(np.array(all_predicted), np.array(all_labels))\n",
    "\n",
    "print(\"\\nTest Accuracy:\", test_accuracy)"
   ]
  },
  {
   "cell_type": "markdown",
   "metadata": {
    "id": "9olmbaA5dfWd"
   },
   "source": [
    "**Comment:** In the above training, I have tried to change to hyper-parameters (number of epochs, learning rate,...), and it seems like training a ViT model from scratch (in this case, using CIFAR10 dataset) could not produce a good result on the test set, with an accuracy of 62.73% (overfitting). Below I have tested with the pre-trained ViT model, DINO v2, by finetuning the classification layer for 5 epochs. DINO v2 gets 94.69% accuracy on test set."
   ]
  },
  {
   "cell_type": "code",
   "execution_count": null,
   "metadata": {
    "id": "biX9NXQTctZP"
   },
   "outputs": [],
   "source": [
    "try:\n",
    "    import timm\n",
    "except ImportError:\n",
    "    !pip install timm"
   ]
  },
  {
   "cell_type": "code",
   "execution_count": null,
   "metadata": {
    "id": "9r7-qtBTczgL"
   },
   "outputs": [],
   "source": [
    "# Load a pretrained DINO v2 model\n",
    "model = timm.create_model(\"vit_small_patch16_224\", pretrained=True)\n",
    "\n",
    "# Modify the classifier head for CIFAR-10 (10 classes)\n",
    "num_features = model.head.in_features\n",
    "model.head = nn.Linear(num_features, 10)\n",
    "\n",
    "model = model.to(device)\n",
    "\n",
    "# Freeze all layers except the last one\n",
    "for param in model.parameters():\n",
    "    param.requires_grad = False\n",
    "\n",
    "for param in model.head.parameters():\n",
    "    param.requires_grad = True\n",
    "\n",
    "criterion = nn.CrossEntropyLoss()\n",
    "optimizer = optim.Adam(\n",
    "    model.head.parameters(), lr=0.001\n",
    ")  # Optimize only the last layer\n",
    "\n",
    "transform = transforms.Compose(\n",
    "    [\n",
    "        transforms.Resize((224, 224)),  # Resize to 224x224\n",
    "        transforms.ToTensor(),\n",
    "    ]\n",
    ")"
   ]
  },
  {
   "cell_type": "code",
   "execution_count": null,
   "metadata": {
    "colab": {
     "base_uri": "https://localhost:8080/"
    },
    "executionInfo": {
     "elapsed": 1157001,
     "status": "ok",
     "timestamp": 1739722641839,
     "user": {
      "displayName": "Phuoc Ho Quang",
      "userId": "17998449024561865035"
     },
     "user_tz": -60
    },
    "id": "jaGpTlbpdeZo",
    "outputId": "e2bd7146-65ed-423e-9fd5-c8d377eb24b8"
   },
   "outputs": [
    {
     "name": "stderr",
     "output_type": "stream",
     "text": [
      "Epoch 1:  51%|█████     | 200/391 [01:58<01:49,  1.74batch/s, loss=0.223]"
     ]
    },
    {
     "name": "stdout",
     "output_type": "stream",
     "text": [
      "[1,   200] loss: 0.186\n"
     ]
    },
    {
     "name": "stderr",
     "output_type": "stream",
     "text": [
      "Epoch 1: 100%|██████████| 391/391 [03:48<00:00,  1.71batch/s, loss=0.142]\n",
      "Epoch 2:  51%|█████     | 200/391 [01:55<01:46,  1.79batch/s, loss=0.257]"
     ]
    },
    {
     "name": "stdout",
     "output_type": "stream",
     "text": [
      "[2,   200] loss: 0.139\n"
     ]
    },
    {
     "name": "stderr",
     "output_type": "stream",
     "text": [
      "Epoch 2: 100%|██████████| 391/391 [03:46<00:00,  1.73batch/s, loss=0.243]\n",
      "Epoch 3:  51%|█████     | 200/391 [01:57<01:53,  1.69batch/s, loss=0.0718]"
     ]
    },
    {
     "name": "stdout",
     "output_type": "stream",
     "text": [
      "[3,   200] loss: 0.135\n"
     ]
    },
    {
     "name": "stderr",
     "output_type": "stream",
     "text": [
      "Epoch 3: 100%|██████████| 391/391 [03:52<00:00,  1.68batch/s, loss=0.182]\n",
      "Epoch 4:  51%|█████     | 200/391 [01:59<01:55,  1.65batch/s, loss=0.0967]"
     ]
    },
    {
     "name": "stdout",
     "output_type": "stream",
     "text": [
      "[4,   200] loss: 0.127\n"
     ]
    },
    {
     "name": "stderr",
     "output_type": "stream",
     "text": [
      "Epoch 4: 100%|██████████| 391/391 [03:53<00:00,  1.67batch/s, loss=0.0527]\n",
      "Epoch 5:  51%|█████     | 200/391 [02:00<01:49,  1.74batch/s, loss=0.131]"
     ]
    },
    {
     "name": "stdout",
     "output_type": "stream",
     "text": [
      "[5,   200] loss: 0.121\n"
     ]
    },
    {
     "name": "stderr",
     "output_type": "stream",
     "text": [
      "Epoch 5: 100%|██████████| 391/391 [03:55<00:00,  1.66batch/s, loss=0.0284]"
     ]
    },
    {
     "name": "stdout",
     "output_type": "stream",
     "text": [
      "Finished Training!\n"
     ]
    },
    {
     "name": "stderr",
     "output_type": "stream",
     "text": [
      "\n"
     ]
    }
   ],
   "source": [
    "# Fine-tune the model\n",
    "model.train()\n",
    "for epoch in range(5):\n",
    "    running_loss = 0.0\n",
    "\n",
    "    with tqdm(cifar_train_loader, unit=\"batch\") as tepoch:\n",
    "        tepoch.set_description(f\"Epoch {epoch+1}\")\n",
    "\n",
    "        for i, (inputs, labels) in enumerate(tepoch):\n",
    "            inputs, labels = inputs.to(device), labels.to(device)\n",
    "\n",
    "            optimizer.zero_grad()\n",
    "            outputs = model(inputs)\n",
    "            loss = criterion(outputs, labels)\n",
    "\n",
    "            loss.backward()\n",
    "            optimizer.step()\n",
    "\n",
    "            running_loss += loss.item()\n",
    "            tepoch.set_postfix(loss=loss.item())\n",
    "\n",
    "            if (i + 1) % 200 == 0:  # Print loss every 200 mini-batches\n",
    "                print(\"[%d, %5d] loss: %.3f\" % (epoch + 1, i + 1, running_loss / 200))\n",
    "                running_loss = 0.0\n",
    "\n",
    "print(\"Finished Training!\")"
   ]
  },
  {
   "cell_type": "code",
   "execution_count": null,
   "metadata": {
    "colab": {
     "base_uri": "https://localhost:8080/"
    },
    "executionInfo": {
     "elapsed": 32363,
     "status": "ok",
     "timestamp": 1739722978766,
     "user": {
      "displayName": "Phuoc Ho Quang",
      "userId": "17998449024561865035"
     },
     "user_tz": -60
    },
    "id": "6NtyvkxUrB43",
    "outputId": "3852e620-7ac5-4e2c-cc26-d7eab317f0d3"
   },
   "outputs": [
    {
     "name": "stderr",
     "output_type": "stream",
     "text": [
      "100%|██████████| 79/79 [00:32<00:00,  2.45batch/s]"
     ]
    },
    {
     "name": "stdout",
     "output_type": "stream",
     "text": [
      "\n",
      "Test Accuracy with DINO v2: 0.9469\n"
     ]
    },
    {
     "name": "stderr",
     "output_type": "stream",
     "text": [
      "\n"
     ]
    }
   ],
   "source": [
    "# Evaluation loop\n",
    "model.eval()\n",
    "all_predicted = []\n",
    "all_labels = []\n",
    "\n",
    "with torch.no_grad():\n",
    "    with tqdm(cifar_test_loader, unit=\"batch\") as tepoch:\n",
    "        for imgs, labels in tepoch:\n",
    "            all_labels.extend(labels.tolist())\n",
    "            imgs = imgs.to(device)\n",
    "            # Resize images to 224x224 as expected by the DINO v2 model\n",
    "            imgs = F.interpolate(\n",
    "                imgs, size=(224, 224), mode=\"bilinear\", align_corners=False\n",
    "            )\n",
    "            predict = model(imgs)\n",
    "            all_predicted.extend(vector_to_class(predict).tolist())\n",
    "\n",
    "test_accuracy = prediction_accuracy(np.array(all_predicted), np.array(all_labels))\n",
    "print(\"\\nTest Accuracy with DINO v2:\", test_accuracy)"
   ]
  },
  {
   "cell_type": "code",
   "execution_count": null,
   "metadata": {
    "id": "kzTYS9vccOYR"
   },
   "outputs": [],
   "source": []
  }
 ],
 "metadata": {
  "accelerator": "GPU",
  "colab": {
   "gpuType": "T4",
   "provenance": [
    {
     "file_id": "18EewP0WwmcevyZzs9Fhp1jhtizihdCIA",
     "timestamp": 1739442883518
    }
   ]
  },
  "kernelspec": {
   "display_name": "Python 3",
   "name": "python3"
  },
  "language_info": {
   "codemirror_mode": {
    "name": "ipython",
    "version": 3
   },
   "file_extension": ".py",
   "mimetype": "text/x-python",
   "name": "python",
   "nbconvert_exporter": "python",
   "pygments_lexer": "ipython3",
   "version": "3.9.12"
  }
 },
 "nbformat": 4,
 "nbformat_minor": 0
}
